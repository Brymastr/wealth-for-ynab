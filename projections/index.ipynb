{
 "metadata": {
  "language_info": {
   "codemirror_mode": {
    "name": "ipython",
    "version": 3
   },
   "file_extension": ".py",
   "mimetype": "text/x-python",
   "name": "python",
   "nbconvert_exporter": "python",
   "pygments_lexer": "ipython3",
   "version": "3.8.5-final"
  },
  "orig_nbformat": 2,
  "kernelspec": {
   "name": "python_defaultSpec_1597547054326",
   "display_name": "Python 3.8.5 64-bit ('3.8.5': pyenv)"
  }
 },
 "nbformat": 4,
 "nbformat_minor": 2,
 "cells": [
  {
   "cell_type": "code",
   "execution_count": 119,
   "metadata": {},
   "outputs": [],
   "source": [
    "import pandas as pd\n",
    "import numpy as np\n",
    "import tensorflow as tf\n",
    "import matplotlib.pyplot as plt\n",
    "import datetime\n",
    "import time\n",
    "import os"
   ]
  },
  {
   "cell_type": "code",
   "execution_count": 120,
   "metadata": {
    "tags": []
   },
   "outputs": [],
   "source": [
    "from tensorflow import keras\n",
    "from tensorflow.keras import layers\n",
    "from tensorflow.keras.utils import Sequence\n",
    "from datetime import timedelta\n",
    "from sklearn.preprocessing import MinMaxScaler\n",
    "from sklearn.metrics import mean_squared_error\n",
    "from pandas.plotting import autocorrelation_plot\n",
    "from fbprophet import Prophet\n"
   ]
  },
  {
   "cell_type": "code",
   "execution_count": 121,
   "metadata": {
    "tags": []
   },
   "outputs": [
    {
     "output_type": "stream",
     "name": "stdout",
     "text": "<class 'pandas.core.frame.DataFrame'>\nRangeIndex: 458 entries, 0 to 457\nData columns (total 10 columns):\n #   Column        Non-Null Count  Dtype         \n---  ------        --------------  -----         \n 0   date          458 non-null    datetime64[ns]\n 1   worth         458 non-null    float64       \n 2   day_of_month  458 non-null    int64         \n 3   day_of_week   458 non-null    int64         \n 4   day_of_year   458 non-null    int64         \n 5   month         458 non-null    int64         \n 6   quarter       458 non-null    int64         \n 7   year          458 non-null    int64         \n 8   ds            458 non-null    datetime64[ns]\n 9   y             458 non-null    datetime64[ns]\ndtypes: datetime64[ns](3), float64(1), int64(6)\nmemory usage: 35.9 KB\n"
    },
    {
     "output_type": "execute_result",
     "data": {
      "text/plain": "RangeIndex(start=0, stop=458, step=1)"
     },
     "metadata": {},
     "execution_count": 121
    }
   ],
   "source": [
    "df = pd.read_json('./data.json')\n",
    "df['day_of_month'] = pd.DatetimeIndex(df['date']).day\n",
    "df['day_of_week'] = pd.DatetimeIndex(df['date']).dayofweek\n",
    "df['day_of_year'] = pd.DatetimeIndex(df['date']).dayofyear\n",
    "df['month'] = pd.DatetimeIndex(df['date']).month\n",
    "df['quarter'] = pd.DatetimeIndex(df['date']).month // 3 + 1\n",
    "df['year'] = pd.DatetimeIndex(df['date']).year\n",
    "df['ds'] = pd.DatetimeIndex(df['date'])\n",
    "df['y'] = pd.DatetimeIndex(df['worth'])\n",
    "\n",
    "# df.set_index('date')\n",
    "\n",
    "# df['date'] = pd.DatetimeIndex(df['date']).to_datetime()\n",
    "df.info()\n",
    "df.index"
   ]
  },
  {
   "cell_type": "code",
   "execution_count": 152,
   "metadata": {
    "tags": []
   },
   "outputs": [],
   "source": [
    "m = Prophet(daily_seasonality=False)\n",
    "m.fit(df)\n",
    "future = m.make_future_dataframe(periods=365, include_history=False)\n",
    "forecast = m.predict(future)\n",
    "result = forecast[['ds', 'yhat', 'yhat_lower', 'yhat_upper']]"
   ]
  },
  {
   "cell_type": "code",
   "execution_count": 162,
   "metadata": {},
   "outputs": [
    {
     "output_type": "execute_result",
     "data": {
      "text/plain": "[{'date': '2021-07-29', 'worth': 113564.19},\n {'date': '2021-07-30', 'worth': 113145.19},\n {'date': '2021-07-31', 'worth': 112636.81},\n {'date': '2021-08-01', 'worth': 111996.14},\n {'date': '2021-08-02', 'worth': 111101.72}]"
     },
     "metadata": {},
     "execution_count": 162
    }
   ],
   "source": [
    "result['date'] = pd.DatetimeIndex(result['ds']).strftime('%Y-%m-%d')\n",
    "result['worth'] = result['yhat'].round(2)\n",
    "\n",
    "result[['date', 'worth']].tail().to_dict(orient='records')"
   ]
  },
  {
   "cell_type": "code",
   "execution_count": 135,
   "metadata": {},
   "outputs": [],
   "source": [
    "# m.plot(forecast)"
   ]
  },
  {
   "cell_type": "code",
   "execution_count": 136,
   "metadata": {},
   "outputs": [],
   "source": [
    "# m.plot_components(forecast)"
   ]
  },
  {
   "cell_type": "code",
   "execution_count": null,
   "metadata": {},
   "outputs": [],
   "source": []
  }
 ]
}